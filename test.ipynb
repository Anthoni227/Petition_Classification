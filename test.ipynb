{
 "cells": [
  {
   "cell_type": "code",
   "execution_count": 1,
   "metadata": {},
   "outputs": [],
   "source": [
    "from flask import Flask, render_template, request, jsonify\n",
    "import pickle\n",
    "import re\n",
    "import string\n",
    "import numpy as np\n",
    "from sklearn.feature_extraction.text import TfidfVectorizer\n",
    "\n",
    "\n",
    "\n",
    "\n",
    "\n",
    "   \n"
   ]
  },
  {
   "cell_type": "code",
   "execution_count": 2,
   "metadata": {},
   "outputs": [],
   "source": [
    "# Load trained models and label encoders\n",
    "with open(\"department_model.pkl\", \"rb\") as f:\n",
    "    best_model_dept = pickle.load(f)\n",
    "\n",
    "with open(\"urgency_model.pkl\", \"rb\") as f:\n",
    "    best_model_urgency = pickle.load(f)\n",
    "\n",
    "with open(\"tfidf_vectorizer.pkl\", \"rb\") as f:\n",
    "    vectorizer = pickle.load(f)\n",
    "\n",
    "with open(\"label_encoder_dept.pkl\", \"rb\") as f:\n",
    "    label_encoder_dept = pickle.load(f)\n",
    "\n",
    "with open(\"label_encoder_urgency.pkl\", \"rb\") as f:\n",
    "    label_encoder_urgency = pickle.load(f)\n",
    "\n",
    "\n",
    "\n"
   ]
  },
  {
   "cell_type": "code",
   "execution_count": 3,
   "metadata": {},
   "outputs": [],
   "source": [
    "# Text preprocessing function\n",
    "def preprocess_text(text):\n",
    "    text = text.lower()\n",
    "    text = re.sub(r'\\d+', '', text)\n",
    "    text = text.translate(str.maketrans(\"\", \"\", string.punctuation))\n",
    "    text = text.strip()\n",
    "    return text\n"
   ]
  },
  {
   "cell_type": "code",
   "execution_count": 5,
   "metadata": {},
   "outputs": [],
   "source": [
    "petition_text = \"My teacher not come class properly\"\n",
    "cleaned_text = preprocess_text(petition_text)\n",
    "transformed_text = vectorizer.transform([cleaned_text])\n"
   ]
  },
  {
   "cell_type": "code",
   "execution_count": 6,
   "metadata": {},
   "outputs": [],
   "source": [
    "\n",
    "\n",
    "dept_pred = best_model_dept.predict(transformed_text)[0]\n",
    "urgency_pred = best_model_urgency.predict(transformed_text)[0]\n",
    "\n",
    "department = label_encoder_dept.inverse_transform([dept_pred])[0]\n",
    "urgency = label_encoder_urgency.inverse_transform([urgency_pred])[0]"
   ]
  },
  {
   "cell_type": "code",
   "execution_count": 8,
   "metadata": {},
   "outputs": [
    {
     "name": "stdout",
     "output_type": "stream",
     "text": [
      "0\n",
      "important\n"
     ]
    }
   ],
   "source": [
    "print(dept_pred)\n",
    "print(urgency)"
   ]
  },
  {
   "cell_type": "code",
   "execution_count": 2,
   "metadata": {},
   "outputs": [
    {
     "name": "stdout",
     "output_type": "stream",
     "text": [
      "department_model.pkl loaded successfully. Type: <class 'sklearn.ensemble._forest.RandomForestClassifier'>\n",
      "urgency_model.pkl loaded successfully. Type: <class 'sklearn.ensemble._forest.RandomForestClassifier'>\n",
      "tfidf_vectorizer.pkl loaded successfully. Type: <class 'sklearn.feature_extraction.text.TfidfVectorizer'>\n",
      "label_encoder_dept.pkl loaded successfully. Type: <class 'sklearn.preprocessing._label.LabelEncoder'>\n",
      "label_encoder_urgency.pkl loaded successfully. Type: <class 'sklearn.preprocessing._label.LabelEncoder'>\n"
     ]
    }
   ],
   "source": [
    "import pickle\n",
    "\n",
    "files = [\n",
    "    \"department_model.pkl\",\n",
    "    \"urgency_model.pkl\",\n",
    "    \"tfidf_vectorizer.pkl\",\n",
    "    \"label_encoder_dept.pkl\",\n",
    "    \"label_encoder_urgency.pkl\",\n",
    "]\n",
    "\n",
    "for file in files:\n",
    "    try:\n",
    "        with open(file, \"rb\") as f:\n",
    "            data = pickle.load(f)\n",
    "        print(f\"{file} loaded successfully. Type: {type(data)}\")\n",
    "    except Exception as e:\n",
    "        print(f\"Error loading {file}: {e}\")\n"
   ]
  },
  {
   "cell_type": "code",
   "execution_count": null,
   "metadata": {},
   "outputs": [],
   "source": []
  }
 ],
 "metadata": {
  "kernelspec": {
   "display_name": "base",
   "language": "python",
   "name": "python3"
  },
  "language_info": {
   "codemirror_mode": {
    "name": "ipython",
    "version": 3
   },
   "file_extension": ".py",
   "mimetype": "text/x-python",
   "name": "python",
   "nbconvert_exporter": "python",
   "pygments_lexer": "ipython3",
   "version": "3.12.7"
  }
 },
 "nbformat": 4,
 "nbformat_minor": 2
}
